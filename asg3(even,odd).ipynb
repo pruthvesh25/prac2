{
 "cells": [
  {
   "cell_type": "code",
   "execution_count": 2,
   "metadata": {},
   "outputs": [
    {
     "name": "stdout",
     "output_type": "stream",
     "text": [
      "Number: 2, Prediction: Even\n",
      "Number: 7, Prediction: Odd\n",
      "Number: 4, Prediction: Even\n",
      "Number: 9, Prediction: Odd\n",
      "Number: 1, Prediction: Odd\n"
     ]
    }
   ],
   "source": [
    "import numpy as np\n",
    "\n",
    "class Perceptron:\n",
    "    def __init__(self, input_size):\n",
    "        self.weights = np.random.rand(input_size)\n",
    "        self.bias = np.random.rand()\n",
    "\n",
    "    def predict(self, inputs):\n",
    "        summation = np.dot(inputs, self.weights) + self.bias\n",
    "        return 1 if summation > 0 else 0\n",
    "\n",
    "def convert_to_binary_ascii(number):\n",
    "    binary_ascii = format(number, '08b')  # Convert number to 8-bit binary ASCII\n",
    "    return [int(bit) for bit in binary_ascii]\n",
    "\n",
    "def train_perceptron():\n",
    "    training_data = [\n",
    "        (0, 0),  # '0'\n",
    "        (1, 1),  # '1'\n",
    "        (2, 0),  # '2'\n",
    "        (3, 1),  # '3'\n",
    "        (4, 0),  # '4'\n",
    "        (5, 1),  # '5'\n",
    "        (6, 0),  # '6'\n",
    "        (7, 1),  # '7'\n",
    "        (8, 0),  # '8'\n",
    "        (9, 1),  # '9'\n",
    "    ]\n",
    "\n",
    "    perceptron = Perceptron(input_size=8)\n",
    "\n",
    "    epochs = 5\n",
    "    learning_rate = 0.1\n",
    "\n",
    "    for epoch in range(epochs):\n",
    "        for number, label in training_data:\n",
    "            binary_ascii = convert_to_binary_ascii(number)\n",
    "            prediction = perceptron.predict(binary_ascii)\n",
    "            error = label - prediction\n",
    "\n",
    "            perceptron.weights += learning_rate * error * np.array(binary_ascii)\n",
    "            perceptron.bias += learning_rate * error\n",
    "\n",
    "    return perceptron\n",
    "\n",
    "def main():\n",
    "    perceptron = train_perceptron()\n",
    "\n",
    "    test_numbers = [2, 7, 4, 9, 1]\n",
    "\n",
    "    for number in test_numbers:\n",
    "        binary_ascii = convert_to_binary_ascii(number)\n",
    "        prediction = perceptron.predict(binary_ascii)\n",
    "\n",
    "        print(f\"Number: {number}, Prediction: {'Even' if prediction == 0 else 'Odd'}\")\n",
    "\n",
    "if __name__ == \"__main__\":\n",
    "    main()\n"
   ]
  },
  {
   "cell_type": "code",
   "execution_count": null,
   "metadata": {},
   "outputs": [],
   "source": []
  }
 ],
 "metadata": {
  "kernelspec": {
   "display_name": "base",
   "language": "python",
   "name": "python3"
  },
  "language_info": {
   "codemirror_mode": {
    "name": "ipython",
    "version": 3
   },
   "file_extension": ".py",
   "mimetype": "text/x-python",
   "name": "python",
   "nbconvert_exporter": "python",
   "pygments_lexer": "ipython3",
   "version": "3.11.7"
  }
 },
 "nbformat": 4,
 "nbformat_minor": 2
}
