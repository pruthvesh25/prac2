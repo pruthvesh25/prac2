{
 "cells": [
  {
   "cell_type": "code",
   "execution_count": 2,
   "id": "1c2143db",
   "metadata": {},
   "outputs": [
    {
     "name": "stdout",
     "output_type": "stream",
     "text": [
      "epoch 0 :  0.4910614294611539\n",
      "epoch 5000 :  0.0005037599746223897\n",
      "epoch 10000 :  0.00024352560081230507\n",
      "epoch 15000 :  0.0001599546332122553\n",
      "epoch 20000 :  0.00011891259975144266\n",
      "epoch 25000 :  9.456148878813245e-05\n"
     ]
    },
    {
     "data": {
      "text/plain": [
       "array([1.])"
      ]
     },
     "execution_count": 2,
     "metadata": {},
     "output_type": "execute_result"
    }
   ],
   "source": [
    "import numpy as np\n",
    "import seaborn as sbn\n",
    "import matplotlib.pyplot as plt\n",
    "\n",
    "X = np.array([[0, 0],\n",
    "              [0, 1],\n",
    "              [1, 0],\n",
    "              [1, 1]])\n",
    "y = np.array([[0],\n",
    "             [1],\n",
    "             [1],\n",
    "             [1]])\n",
    "lr = 0.5\n",
    "weights = np.random.randn(2, 1)\n",
    "bias = np.random.randn(1)\n",
    "\n",
    "def sigmoid(x):\n",
    "    return 1/(1+np.exp(-x))\n",
    "\n",
    "\n",
    "def sigmoid_derivative(x):\n",
    "    return x*(1-x)\n",
    "\n",
    "\n",
    "def costfn(actual, pred):\n",
    "    return np.mean((actual-pred)**2)\n",
    "\n",
    "def forward(x, weights, bias):\n",
    "    z = np.dot(x, weights) + bias\n",
    "    return sigmoid(z)\n",
    "\n",
    "\n",
    "def backward(x, y, output, bias, weights, lr):\n",
    "    error = y - output\n",
    "    d_output = error * sigmoid_derivative(output)\n",
    "    d_bias = np.sum(d_output)\n",
    "    d_weights = np.dot(x.T, d_output)\n",
    "\n",
    "    bias += lr * d_bias\n",
    "\n",
    "    return weights, bias\n",
    "for epoch in range(30000):\n",
    "    output = forward(X, weights, bias)\n",
    "    weights, bias = backward(X, y, output, bias, weights, lr)\n",
    "\n",
    "    cost = costfn(y, output)\n",
    "    if epoch % 5000 == 0:\n",
    "        print(f\"epoch {epoch} : \", cost)\n",
    "        \n",
    "test = np.array([0, 1])\n",
    "forward(test, weights, bias).round()"
   ]
  },
  {
   "cell_type": "code",
   "execution_count": null,
   "id": "6f56da16",
   "metadata": {},
   "outputs": [],
   "source": []
  }
 ],
 "metadata": {
  "kernelspec": {
   "display_name": "Python 3 (ipykernel)",
   "language": "python",
   "name": "python3"
  },
  "language_info": {
   "codemirror_mode": {
    "name": "ipython",
    "version": 3
   },
   "file_extension": ".py",
   "mimetype": "text/x-python",
   "name": "python",
   "nbconvert_exporter": "python",
   "pygments_lexer": "ipython3",
   "version": "3.9.13"
  }
 },
 "nbformat": 4,
 "nbformat_minor": 5
}
